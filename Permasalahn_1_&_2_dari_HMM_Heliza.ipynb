{
  "nbformat": 4,
  "nbformat_minor": 0,
  "metadata": {
    "colab": {
      "provenance": [],
      "collapsed_sections": []
    },
    "kernelspec": {
      "name": "python3",
      "display_name": "Python 3"
    },
    "language_info": {
      "name": "python"
    }
  },
  "cells": [
    {
      "cell_type": "markdown",
      "source": [
        "Nama : Heliza Rahmania Hatta (G6601222021)"
      ],
      "metadata": {
        "id": "WagMUqBE3vqG"
      }
    },
    {
      "cell_type": "code",
      "execution_count": 1,
      "metadata": {
        "colab": {
          "base_uri": "https://localhost:8080/"
        },
        "id": "oLK3VysbuaV1",
        "outputId": "cccd91c2-bd92-487c-f805-23e6e69657e4"
      },
      "outputs": [
        {
          "output_type": "stream",
          "name": "stdout",
          "text": [
            "Looking in indexes: https://pypi.org/simple, https://us-python.pkg.dev/colab-wheels/public/simple/\n",
            "Collecting hmmlearn==0.2.2\n",
            "  Downloading hmmlearn-0.2.2.tar.gz (146 kB)\n",
            "\u001b[?25l\r\u001b[K     |██▎                             | 10 kB 32.7 MB/s eta 0:00:01\r\u001b[K     |████▌                           | 20 kB 38.7 MB/s eta 0:00:01\r\u001b[K     |██████▊                         | 30 kB 45.8 MB/s eta 0:00:01\r\u001b[K     |█████████                       | 40 kB 27.0 MB/s eta 0:00:01\r\u001b[K     |███████████▏                    | 51 kB 30.7 MB/s eta 0:00:01\r\u001b[K     |█████████████▍                  | 61 kB 34.3 MB/s eta 0:00:01\r\u001b[K     |███████████████▊                | 71 kB 35.2 MB/s eta 0:00:01\r\u001b[K     |██████████████████              | 81 kB 30.6 MB/s eta 0:00:01\r\u001b[K     |████████████████████▏           | 92 kB 32.9 MB/s eta 0:00:01\r\u001b[K     |██████████████████████▍         | 102 kB 35.3 MB/s eta 0:00:01\r\u001b[K     |████████████████████████▋       | 112 kB 35.3 MB/s eta 0:00:01\r\u001b[K     |██████████████████████████▉     | 122 kB 35.3 MB/s eta 0:00:01\r\u001b[K     |█████████████████████████████   | 133 kB 35.3 MB/s eta 0:00:01\r\u001b[K     |███████████████████████████████▍| 143 kB 35.3 MB/s eta 0:00:01\r\u001b[K     |████████████████████████████████| 146 kB 35.3 MB/s \n",
            "\u001b[?25hRequirement already satisfied: numpy>=1.10 in /usr/local/lib/python3.7/dist-packages (from hmmlearn==0.2.2) (1.21.6)\n",
            "Requirement already satisfied: scikit-learn>=0.16 in /usr/local/lib/python3.7/dist-packages (from hmmlearn==0.2.2) (1.0.2)\n",
            "Requirement already satisfied: threadpoolctl>=2.0.0 in /usr/local/lib/python3.7/dist-packages (from scikit-learn>=0.16->hmmlearn==0.2.2) (3.1.0)\n",
            "Requirement already satisfied: joblib>=0.11 in /usr/local/lib/python3.7/dist-packages (from scikit-learn>=0.16->hmmlearn==0.2.2) (1.1.0)\n",
            "Requirement already satisfied: scipy>=1.1.0 in /usr/local/lib/python3.7/dist-packages (from scikit-learn>=0.16->hmmlearn==0.2.2) (1.7.3)\n",
            "Building wheels for collected packages: hmmlearn\n",
            "  Building wheel for hmmlearn (setup.py) ... \u001b[?25l\u001b[?25hdone\n",
            "  Created wheel for hmmlearn: filename=hmmlearn-0.2.2-cp37-cp37m-linux_x86_64.whl size=342088 sha256=42259d6103c2f035456b232864c7d7e2d9e062c9eab526e13cbad1b449a97c70\n",
            "  Stored in directory: /root/.cache/pip/wheels/66/1c/c5/d5572261032ef106444475a9921466143832e4943623234be4\n",
            "Successfully built hmmlearn\n",
            "Installing collected packages: hmmlearn\n",
            "Successfully installed hmmlearn-0.2.2\n"
          ]
        }
      ],
      "source": [
        "pip install hmmlearn==0.2.2"
      ]
    },
    {
      "cell_type": "code",
      "source": [
        "# Definisi Matrik Transisi (states)\n",
        "states = ('Rainy', 'Sunny')\n",
        "# definisi Matriks Observasi / Matrik emmisi\n",
        "observations = ('walk', 'shop', 'clean')\n",
        "# definisi Matriks Priority\n",
        "start_probability = {'Rainy': 0.6, 'Sunny': 0.4}\n",
        "transition_probability = {\n",
        "'Rainy' : {'Rainy': 0.7, 'Sunny': 0.3},\n",
        "'Sunny' : {'Rainy': 0.4, 'Sunny': 0.6},\n",
        "}\n",
        "emission_probability = {\n",
        "'Rainy' : {'walk': 0.1, 'shop': 0.4, 'clean': 0.5},\n",
        "'Sunny' : {'walk': 0.6, 'shop': 0.3, 'clean': 0.1},\n",
        "}"
      ],
      "metadata": {
        "id": "NyP4yH82ujtL"
      },
      "execution_count": 2,
      "outputs": []
    },
    {
      "cell_type": "code",
      "source": [
        "# Library untuk HMM\n",
        "# Cara install pip install hmmlearn==0.2.2\n",
        "from hmmlearn import hmm\n",
        "import numpy as np\n",
        "model = hmm.MultinomialHMM(n_components=2)\n",
        "model.startprob_ = np.array([0.6, 0.4])\n",
        "model.transmat_ = np.array([[0.7, 0.3],\n",
        "[0.4, 0.6]])\n",
        "model.emissionprob_ = np.array([[0.1, 0.4, 0.5],\n",
        "[0.6, 0.3, 0.1]])"
      ],
      "metadata": {
        "id": "PSKo-HKdu9-l"
      },
      "execution_count": 3,
      "outputs": []
    },
    {
      "cell_type": "code",
      "source": [
        "# Given a known model what is the likelihood of sequence O happening?\n",
        "# The probability of the first observation being “Walk” equals to the multiplication\n",
        "# of the initial state distribution and emission probability matrix.\n",
        "# 0.6 x 0.1 + 0.4 x 0.6 = 0.30 (30%).\n",
        "# The log likelihood is provided from calling .score.\n",
        "# catatan {'walk', 'shop','clean' }\n",
        "# Kasus untuk initial state #\n",
        "# contoh untuk observasi 'walk'\n",
        "# peluang dari model jika observasi adalah 'walk'\n",
        "# 0.6 x 0.1 + 0.4 x 0.6 = 0.30 (30%)\n",
        "import math\n",
        "math.exp(model.score(np.array([[0]])))\n"
      ],
      "metadata": {
        "colab": {
          "base_uri": "https://localhost:8080/"
        },
        "id": "5EE-kIlJvEIO",
        "outputId": "9c689a69-b903-4a9c-d986-9b0dfba02bb6"
      },
      "execution_count": 9,
      "outputs": [
        {
          "output_type": "execute_result",
          "data": {
            "text/plain": [
              "0.30000000000000004"
            ]
          },
          "metadata": {},
          "execution_count": 9
        }
      ]
    },
    {
      "cell_type": "code",
      "source": [
        "# contoh untuk observasi 'shop'\n",
        "# peluang dari model jika observasi adalah 'shop'\n",
        "# 0.6 x 0.4 + 0.4 x 0.3 = (36%)\n",
        "math.exp(model.score(np.array([[1]])))"
      ],
      "metadata": {
        "colab": {
          "base_uri": "https://localhost:8080/"
        },
        "id": "nOVwicwTxwrJ",
        "outputId": "5cdf11f3-2452-4270-f0e1-5e1b86a9094d"
      },
      "execution_count": 10,
      "outputs": [
        {
          "output_type": "execute_result",
          "data": {
            "text/plain": [
              "0.36000000000000004"
            ]
          },
          "metadata": {},
          "execution_count": 10
        }
      ]
    },
    {
      "cell_type": "code",
      "source": [
        "# contoh untuk observasi 'clean'\n",
        "# peluang dari model jika observasi adalah 'clean'\n",
        "# 0.6 x 0.5 + 0.4 x 0.1 = (34%)\n",
        "math.exp(model.score(np.array([[2]])))"
      ],
      "metadata": {
        "colab": {
          "base_uri": "https://localhost:8080/"
        },
        "id": "GEbOuPpXvLQZ",
        "outputId": "4d48e220-3851-4936-a9be-9f2104a93970"
      },
      "execution_count": 13,
      "outputs": [
        {
          "output_type": "execute_result",
          "data": {
            "text/plain": [
              "0.3400000000000001"
            ]
          },
          "metadata": {},
          "execution_count": 13
        }
      ]
    },
    {
      "cell_type": "code",
      "source": [
        "# contoh untuk observasi {'clean', 'clean'}\n",
        "# peluang dari model jika observasi {'clean', 'clean'} adalah\n",
        "math.exp(model.score(np.array([[2,2]])))"
      ],
      "metadata": {
        "colab": {
          "base_uri": "https://localhost:8080/"
        },
        "id": "JOg_F_7dvRjC",
        "outputId": "f0bc3dec-4f38-4b02-aec4-1e854510ee09"
      },
      "execution_count": 14,
      "outputs": [
        {
          "output_type": "execute_result",
          "data": {
            "text/plain": [
              "0.1244"
            ]
          },
          "metadata": {},
          "execution_count": 14
        }
      ]
    },
    {
      "cell_type": "code",
      "source": [
        "#==== HMM decode dengan algoritma viterbi di dalamnya ======#\n",
        "logprob, seq = model.decode(np.array([[1,2,0]]).transpose())\n",
        "print(math.exp(logprob))\n",
        "print(seq)"
      ],
      "metadata": {
        "colab": {
          "base_uri": "https://localhost:8080/"
        },
        "id": "vEqytsIKvVuK",
        "outputId": "591feb88-5bf8-4068-f5d1-aade1608c5f5"
      },
      "execution_count": 15,
      "outputs": [
        {
          "output_type": "stream",
          "name": "stdout",
          "text": [
            "0.015120000000000003\n",
            "[0 0 1]\n"
          ]
        }
      ]
    },
    {
      "cell_type": "code",
      "source": [
        "logprob, seq = model.decode(np.array([[2,2,2]]).transpose())\n",
        "print(math.exp(logprob))\n",
        "print(seq)"
      ],
      "metadata": {
        "colab": {
          "base_uri": "https://localhost:8080/"
        },
        "id": "IvttBqiavZFZ",
        "outputId": "8879e971-65fc-498e-e7b1-8ddf4b1784d9"
      },
      "execution_count": 16,
      "outputs": [
        {
          "output_type": "stream",
          "name": "stdout",
          "text": [
            "0.03674999999999999\n",
            "[0 0 0]\n"
          ]
        }
      ]
    }
  ]
}