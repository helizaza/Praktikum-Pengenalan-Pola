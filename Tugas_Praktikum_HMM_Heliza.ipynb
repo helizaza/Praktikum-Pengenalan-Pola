{
  "nbformat": 4,
  "nbformat_minor": 0,
  "metadata": {
    "colab": {
      "provenance": [],
      "collapsed_sections": []
    },
    "kernelspec": {
      "name": "python3",
      "display_name": "Python 3"
    },
    "language_info": {
      "name": "python"
    }
  },
  "cells": [
    {
      "cell_type": "markdown",
      "source": [
        "Nama : Heliza Rahmania Hatta (G6601222021)"
      ],
      "metadata": {
        "id": "WagMUqBE3vqG"
      }
    },
    {
      "cell_type": "code",
      "source": [
        "pip install hmmlearn==0.2.2"
      ],
      "metadata": {
        "colab": {
          "base_uri": "https://localhost:8080/"
        },
        "id": "UhjauR58HlRy",
        "outputId": "fd3dd338-aca1-459f-ac7c-c3215a6c3dea"
      },
      "execution_count": 14,
      "outputs": [
        {
          "output_type": "stream",
          "name": "stdout",
          "text": [
            "Looking in indexes: https://pypi.org/simple, https://us-python.pkg.dev/colab-wheels/public/simple/\n",
            "Collecting hmmlearn==0.2.2\n",
            "  Downloading hmmlearn-0.2.2.tar.gz (146 kB)\n",
            "\u001b[K     |████████████████████████████████| 146 kB 12.9 MB/s \n",
            "\u001b[?25hRequirement already satisfied: numpy>=1.10 in /usr/local/lib/python3.7/dist-packages (from hmmlearn==0.2.2) (1.21.6)\n",
            "Requirement already satisfied: scikit-learn>=0.16 in /usr/local/lib/python3.7/dist-packages (from hmmlearn==0.2.2) (1.0.2)\n",
            "Requirement already satisfied: threadpoolctl>=2.0.0 in /usr/local/lib/python3.7/dist-packages (from scikit-learn>=0.16->hmmlearn==0.2.2) (3.1.0)\n",
            "Requirement already satisfied: scipy>=1.1.0 in /usr/local/lib/python3.7/dist-packages (from scikit-learn>=0.16->hmmlearn==0.2.2) (1.7.3)\n",
            "Requirement already satisfied: joblib>=0.11 in /usr/local/lib/python3.7/dist-packages (from scikit-learn>=0.16->hmmlearn==0.2.2) (1.1.0)\n",
            "Building wheels for collected packages: hmmlearn\n",
            "  Building wheel for hmmlearn (setup.py) ... \u001b[?25l\u001b[?25hdone\n",
            "  Created wheel for hmmlearn: filename=hmmlearn-0.2.2-cp37-cp37m-linux_x86_64.whl size=342086 sha256=685017e9b42c91fec4dafb07a8792d0886769a4521f4fa4df88be5f9e82f725c\n",
            "  Stored in directory: /root/.cache/pip/wheels/66/1c/c5/d5572261032ef106444475a9921466143832e4943623234be4\n",
            "Successfully built hmmlearn\n",
            "Installing collected packages: hmmlearn\n",
            "Successfully installed hmmlearn-0.2.2\n"
          ]
        }
      ]
    },
    {
      "cell_type": "code",
      "source": [
        "# Definisi Matrik Transisi (states)\n",
        "states = ('Rainy', 'Sunny')\n",
        "\n",
        "# definisi Matriks Observasi / Matrik emmisi\n",
        "observations = ('walk', 'shop', 'clean')\n",
        "\n",
        "# definisi Matriks Priority\n",
        "start_probability = {'Rainy': 0.6, 'Sunny': 0.4}\n",
        "transition_probability = {\n",
        "'Rainy' : {'Rainy': 0.7, 'Sunny': 0.3},\n",
        "'Sunny' : {'Rainy': 0.4, 'Sunny': 0.6},\n",
        "}\n",
        "emission_probability = {\n",
        "'Rainy' : {'walk': 0.1, 'shop': 0.4, 'clean': 0.5},\n",
        "'Sunny' : {'walk': 0.6, 'shop': 0.3, 'clean': 0.1},\n",
        "}\n",
        "\n",
        "# Library untuk HMM\n",
        "# Cara install pip install hmmlearn==0.2.2\n",
        "from hmmlearn import hmm\n",
        "import numpy as np\n",
        "model = hmm.MultinomialHMM(n_components=2)\n",
        "model.startprob_ = np.array([0.6, 0.4])\n",
        "model.transmat_ = np.array([[0.7, 0.3],\n",
        "[0.4, 0.6]])\n",
        "model.emissionprob_ = np.array([[0.1, 0.4, 0.5],\n",
        "[0.6, 0.3, 0.1]])\n",
        "\n",
        "# Peluang dari model jika observasi {'clean', 'clean',’walk’, ‘walk’, ‘shop’}\n",
        "import math\n",
        "math.exp(model.score(np.array([[2,2,0,0,1]])))"
      ],
      "metadata": {
        "colab": {
          "base_uri": "https://localhost:8080/"
        },
        "id": "GeyM_UPvDMPM",
        "outputId": "a177f8eb-4524-4d91-f710-0cdc625812a6"
      },
      "execution_count": 20,
      "outputs": [
        {
          "output_type": "execute_result",
          "data": {
            "text/plain": [
              "0.004082395400000001"
            ]
          },
          "metadata": {},
          "execution_count": 20
        }
      ]
    },
    {
      "cell_type": "code",
      "source": [
        "logprob, seq = model.decode(np.array([[2,2,0,0,1]]).transpose())\n",
        "print(math.exp(logprob))\n",
        "print(seq)\n"
      ],
      "metadata": {
        "colab": {
          "base_uri": "https://localhost:8080/"
        },
        "id": "ESkLSkzUICid",
        "outputId": "98e4e8a2-b26b-42e3-fb5e-06deb2c068cc"
      },
      "execution_count": 21,
      "outputs": [
        {
          "output_type": "stream",
          "name": "stdout",
          "text": [
            "0.001224720000000001\n",
            "[0 0 1 1 1]\n"
          ]
        }
      ]
    }
  ]
}